{
 "cells": [
  {
   "metadata": {},
   "cell_type": "code",
   "outputs": [],
   "execution_count": null,
   "source": [
    "//Todo Seperate the address column from the user table such that every user is attached to an address and a user can have multiple addresses (user here includes all roles) Done.\n",
    "\n",
    "//Todo Address table must contain but not limited to the following Id (type UUID), state, statecode, long and lat, local govt, street name and number, userId Done.\n",
    "\n",
    "//Todo Laundry person resposible for washing should be indicated in the booking table Done (created another table to cater for that)\n",
    "\n",
    "//TODO We should have a table called roles\n",
    "\n",
    "//TODO build a system that authomatically assigns laundrymen to booking.\n",
    "\n",
    "//TODO write logic to distribute delivery to delivery agents, there should be a relationship between an agent and delivery model, such that each agent get a mail notification and also whatsapp notification on details of delivery to be done.\n",
    "\n",
    "//TODO"
   ]
  }
 ],
 "metadata": {
  "kernelspec": {
   "display_name": "Kotlin",
   "language": "kotlin",
   "name": "kotlin"
  },
  "language_info": {
   "name": "kotlin",
   "version": "1.9.23",
   "mimetype": "text/x-kotlin",
   "file_extension": ".kt",
   "pygments_lexer": "kotlin",
   "codemirror_mode": "text/x-kotlin",
   "nbconvert_exporter": ""
  }
 },
 "nbformat": 4,
 "nbformat_minor": 0
}
